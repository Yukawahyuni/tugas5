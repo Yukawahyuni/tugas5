{
 "cells": [
  {
   "cell_type": "markdown",
   "id": "ebc3a7d6",
   "metadata": {},
   "source": [
    "# Tugas sesi 5"
   ]
  },
  {
   "cell_type": "markdown",
   "id": "15059d3a",
   "metadata": {},
   "source": [
    "#### 1. Buatlah biodata sederhana dengan menggunakan fungsi input(), output variabel dengan fungsi format()."
   ]
  },
  {
   "cell_type": "code",
   "execution_count": 3,
   "id": "fb4cb09e",
   "metadata": {},
   "outputs": [
    {
     "name": "stdout",
     "output_type": "stream",
     "text": [
      "Masukan nama kalian : Yuka wahyuni\n",
      "Masukan kelas kalian : 22 H\n",
      "Masukan NIM kalian : 20220040125\n",
      "Masukan prodi : Teknik Informatika\n",
      "perkenalkan\n",
      "Nama saya Yuka wahyuni, dari kelas 22 H, NIM saya 20220040125, dan PRODI saya Teknik Informatika \n"
     ]
    }
   ],
   "source": [
    "Nama = input(\"Masukan nama kalian : \")\n",
    "Kelas = input(\"MasukTINIM kalian : \")\n",
    "PRODI = input(\"Masukan prodi : \")\n",
    "\n",
    "print(\"perkenalkan\")\n",
    "print(\"Nama saya {}, dari kelas {}, NIM saya {}, dan PRODI saya {} \". format(Nama,Kelas,NIM,PRODI))"
   ]
  },
  {
   "cell_type": "markdown",
   "id": "571eb756",
   "metadata": {},
   "source": [
    "#### 2. Jika terdapat kalimat UNIVERSITAS NUSAPUTRA SUKABUMI, buatlah kode program untuk nenampilkan output.\n",
    "<ul>\n",
    "    <li>a. putra nusa\n",
    "    <li>b. NIVERSITAS NSA PTRA SKABMI\n",
    "    <li>c. SUKABUMI PUTRA NUSA UNIVERSITAS\n",
    "    <li>d. UNPS</li>\n",
    "    <li>e. TAS SAPU BUMI</li>"
   ]
  },
  {
   "cell_type": "code",
   "execution_count": 2,
   "id": "7676a6a1",
   "metadata": {},
   "outputs": [
    {
     "name": "stdout",
     "output_type": "stream",
     "text": [
      "putra nusa\n",
      "NIVERSITAS NSA PTRA SKABMI\n",
      "SUKABUMI PUTRA NUSA UNIVERSITAS\n",
      "UNPS\n",
      "TAS SAPU BUMI\n"
     ]
    }
   ],
   "source": [
    "kalimat = \"UNIVERSITAS NUSA PUTRA SUKABUMI\"\n",
    "\n",
    "a = kalimat[17:22].lower() + kalimat[11:16].lower()\n",
    "b = kalimat[1:11] + kalimat[11:13] + kalimat[14:16] + kalimat[16:18] + kalimat[19:22] + kalimat[22:24] + kalimat[25:28] + kalimat[29:31]\n",
    "c = kalimat[23:31] + kalimat[16:22] + kalimat[11:17] + kalimat[0:11]\n",
    "d = kalimat[0] + kalimat[1] + kalimat[17] + kalimat [23]\n",
    "e = kalimat[8:12] + kalimat[14:16] + kalimat[17:19] + kalimat[11] + kalimat[27:31]\n",
    "\n",
    "print(a)\n",
    "print(b)\n",
    "print(c)\n",
    "print(d)\n",
    "print(e)"
   ]
  }
 ],
 "metadata": {
  "kernelspec": {
   "display_name": "Python 3 (ipykernel)",
   "language": "python",
   "name": "python3"
  },
  "language_info": {
   "codemirror_mode": {
    "name": "ipython",
    "version": 3
   },
   "file_extension": ".py",
   "mimetype": "text/x-python",
   "name": "python",
   "nbconvert_exporter": "python",
   "pygments_lexer": "ipython3",
   "version": "3.9.12"
  }
 },
 "nbformat": 4,
 "nbformat_minor": 5
}
